{
 "cells": [
  {
   "cell_type": "code",
   "execution_count": 1,
   "metadata": {},
   "outputs": [],
   "source": [
    "from neo4j import GraphDatabase\n",
    "import pandas as pd"
   ]
  },
  {
   "cell_type": "code",
   "execution_count": 2,
   "metadata": {},
   "outputs": [],
   "source": [
    "URI = \"bolt://localhost:7687\"\n",
    "AUTH = (\"neo4j\", \"password\")\n",
    "\n",
    "with GraphDatabase.driver(URI, auth=AUTH) as driver: \n",
    "    driver.verify_connectivity() "
   ]
  },
  {
   "cell_type": "code",
   "execution_count": 4,
   "metadata": {},
   "outputs": [],
   "source": [
    "def create_node(driver, name, id, paper_count):\n",
    "    def create_person(tx, name, id, paper_count):\n",
    "        query = (\n",
    "            \"CREATE (p:Concept {name: $name, id: $id, paper_count: $paper_count})\"\n",
    "        )\n",
    "        tx.run(query, name=name, id=id, paper_count=paper_count)\n",
    "\n",
    "    with driver.session(database=\"graph2024forecasted\") as session:\n",
    "        session.execute_write(create_person, name, id, paper_count)"
   ]
  },
  {
   "cell_type": "code",
   "execution_count": 5,
   "metadata": {},
   "outputs": [],
   "source": [
    "def create_relationship(driver, name1, name2, weight):    \n",
    "    def create_weighted_relationship(tx, name1, name2, weight):\n",
    "        query = (\n",
    "            f\"MATCH (a:Concept {{id: '{name1}'}}), (b:Concept {{id: '{name2}'}})\"\n",
    "            f\"CREATE (a)-[r:RELATED_TO {{weight: {weight}}}]->(b)\"\n",
    "            \"RETURN r\"\n",
    "        )\n",
    "        return tx.run(query)\n",
    "\n",
    "    with driver.session(database=\"graph2024forecasted\") as session:\n",
    "        session.execute_write(create_weighted_relationship, name1, name2, weight)"
   ]
  },
  {
   "cell_type": "code",
   "execution_count": 6,
   "metadata": {},
   "outputs": [],
   "source": [
    "# Load data\n",
    "node_data = pd.read_csv('node_forecast_results_2024.csv')\n",
    "edge_data = pd.read_csv('edge_forecast_results_2024.csv')"
   ]
  },
  {
   "cell_type": "code",
   "execution_count": 7,
   "metadata": {},
   "outputs": [],
   "source": [
    "driver = GraphDatabase.driver(URI, auth=AUTH)"
   ]
  },
  {
   "cell_type": "code",
   "execution_count": 8,
   "metadata": {},
   "outputs": [],
   "source": [
    "# Create nodes\n",
    "for index, row in node_data.iterrows():\n",
    "    create_node(driver, row['Concept'], row['ID'], row['Paper Count'])\n",
    "\n",
    "# Create relationships\n",
    "for index, row in edge_data.iterrows():\n",
    "    create_relationship(driver, row['ID_A'], row['ID_B'], row['Common Paper Count'])\n",
    "\n",
    "driver.close()"
   ]
  }
 ],
 "metadata": {
  "kernelspec": {
   "display_name": "Python 3",
   "language": "python",
   "name": "python3"
  },
  "language_info": {
   "codemirror_mode": {
    "name": "ipython",
    "version": 3
   },
   "file_extension": ".py",
   "mimetype": "text/x-python",
   "name": "python",
   "nbconvert_exporter": "python",
   "pygments_lexer": "ipython3",
   "version": "3.11.5"
  }
 },
 "nbformat": 4,
 "nbformat_minor": 2
}
